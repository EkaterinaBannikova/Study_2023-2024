{
 "cells": [
  {
   "cell_type": "markdown",
   "id": "18cfa45b",
   "metadata": {},
   "source": [
    "Шифр Цезаря"
   ]
  },
  {
   "cell_type": "code",
   "execution_count": 2,
   "id": "6895cf6a",
   "metadata": {},
   "outputs": [
    {
     "name": "stdout",
     "output_type": "stream",
     "text": [
      "Шаг шифровки: 6\n",
      "Сообщение для шифровки: РУДН\n",
      "Выберите язык RU/EU: RU\n",
      "ЦЩЙУ\n"
     ]
    }
   ],
   "source": [
    "alfavit_EU =  'ABCDEFGHIJKLMNOPQRSTUVWXYZ'\n",
    "alfavit_RU = 'АБВГДЕЁЖЗИЙКЛМНОПРСТУФХЦЧШЩЪЫЬЭЮЯ'\n",
    "delta = int(input('Шаг шифровки: '))\n",
    "message = input(\"Сообщение для шифровки: \").upper()\n",
    "itog = ''\n",
    "lang = input('Выберите язык RU/EU: ')\n",
    "if lang == 'RU':\n",
    "    for i in message:\n",
    "        mesto = alfavit_RU.find(i)\n",
    "        new_mesto = mesto + delta\n",
    "        if i in alfavit_RU:\n",
    "            itog += alfavit_RU[new_mesto]\n",
    "        else:\n",
    "            itog += i\n",
    "else:\n",
    "    for i in message:\n",
    "        mesto = alfavit_EU.find(i)\n",
    "        new_mesto = mesto + delta\n",
    "        if i in alfavit_EU:\n",
    "            itog += alfavit_EU[new_mesto]\n",
    "        else:\n",
    "            itog += i\n",
    "print (itog)"
   ]
  },
  {
   "cell_type": "markdown",
   "id": "438b7a45",
   "metadata": {},
   "source": [
    "Шифр Атбаш"
   ]
  },
  {
   "cell_type": "code",
   "execution_count": 8,
   "id": "31e182e8",
   "metadata": {},
   "outputs": [
    {
     "name": "stdout",
     "output_type": "stream",
     "text": [
      "Сообщение для шифровки: abc\n",
      "Шифровка: zyx\n",
      "Дешифровка: abc\n",
      "None\n"
     ]
    }
   ],
   "source": [
    "import os\n",
    "\n",
    "def Atbash_crypt(cistring):\n",
    "    string = \"\"\n",
    "    cistring = formatString(cistring)\n",
    "    for x in range(0, len(cistring)):\n",
    "        string += flipChar(cistring[x])\n",
    "    return(string)\n",
    "\n",
    "def formatString (string):\n",
    "    fmtString = string.lower()\n",
    "    fmtString = \"\".join(fmtString.split())\n",
    "    return fmtString\n",
    "\n",
    "def flipChar(char):\n",
    "    flip = abs((ord(char) - 96) - 27)\n",
    "    return chr(flip + 96) if flip > 0 and flip <= 26 else \"\"\n",
    "\n",
    "def Atbash():\n",
    "    os.system('cls')\n",
    "    cistring = input(\"Сообщение для шифровки: \")\n",
    "    print(\"Шифровка:\", Atbash_crypt(cistring))\n",
    "    print(\"Дешифровка:\", Atbash_crypt(Atbash_crypt(cistring)))\n",
    "\n",
    "print(Atbash())"
   ]
  },
  {
   "cell_type": "code",
   "execution_count": null,
   "id": "9fcee667",
   "metadata": {},
   "outputs": [],
   "source": []
  }
 ],
 "metadata": {
  "kernelspec": {
   "display_name": "Python 3 (ipykernel)",
   "language": "python",
   "name": "python3"
  },
  "language_info": {
   "codemirror_mode": {
    "name": "ipython",
    "version": 3
   },
   "file_extension": ".py",
   "mimetype": "text/x-python",
   "name": "python",
   "nbconvert_exporter": "python",
   "pygments_lexer": "ipython3",
   "version": "3.9.12"
  }
 },
 "nbformat": 4,
 "nbformat_minor": 5
}
